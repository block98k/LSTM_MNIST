{
 "cells": [
  {
   "cell_type": "code",
   "execution_count": 1,
   "metadata": {},
   "outputs": [
    {
     "name": "stderr",
     "output_type": "stream",
     "text": [
      "/home/kk/dl/lib/python3.5/site-packages/h5py/__init__.py:36: FutureWarning: Conversion of the second argument of issubdtype from `float` to `np.floating` is deprecated. In future, it will be treated as `np.float64 == np.dtype(float).type`.\n",
      "  from ._conv import register_converters as _register_converters\n"
     ]
    }
   ],
   "source": [
    "import numpy as np\n",
    "import tensorflow as tf\n",
    "from tensorflow.contrib import rnn\n",
    "from tensorflow.examples.tutorials.mnist import input_data"
   ]
  },
  {
   "cell_type": "code",
   "execution_count": 2,
   "metadata": {},
   "outputs": [
    {
     "name": "stdout",
     "output_type": "stream",
     "text": [
      "Extracting /home/kk/Data/mnist/train-images-idx3-ubyte.gz\n",
      "Extracting /home/kk/Data/mnist/train-labels-idx1-ubyte.gz\n",
      "Extracting /home/kk/Data/mnist/t10k-images-idx3-ubyte.gz\n",
      "Extracting /home/kk/Data/mnist/t10k-labels-idx1-ubyte.gz\n"
     ]
    }
   ],
   "source": [
    "mnist = input_data.read_data_sets('/home/kk/Data/mnist',one_hot=True)"
   ]
  },
  {
   "cell_type": "code",
   "execution_count": 3,
   "metadata": {},
   "outputs": [
    {
     "data": {
      "text/plain": [
       "(55000, 784)"
      ]
     },
     "execution_count": 3,
     "metadata": {},
     "output_type": "execute_result"
    }
   ],
   "source": [
    "mnist.train.images.shape"
   ]
  },
  {
   "cell_type": "code",
   "execution_count": 4,
   "metadata": {},
   "outputs": [
    {
     "data": {
      "text/plain": [
       "(55000, 10)"
      ]
     },
     "execution_count": 4,
     "metadata": {},
     "output_type": "execute_result"
    }
   ],
   "source": [
    "mnist.train.labels.shape"
   ]
  },
  {
   "cell_type": "code",
   "execution_count": 5,
   "metadata": {},
   "outputs": [],
   "source": [
    "learning_rate = 0.001\n",
    "training_iters = 100000\n",
    "batch_size =256\n",
    "display_step = 10"
   ]
  },
  {
   "cell_type": "code",
   "execution_count": 15,
   "metadata": {},
   "outputs": [],
   "source": [
    "n_input = 28\n",
    "n_steps = 28 #timestep\n",
    "n_hidden = 128#hidden layers\n",
    "n_classes =10"
   ]
  },
  {
   "cell_type": "code",
   "execution_count": 7,
   "metadata": {},
   "outputs": [],
   "source": [
    "x=tf.placeholder ('float',[None,n_steps,n_input],name='X')\n",
    "y=tf.placeholder ('float',[None,n_classes],name='Y')\n"
   ]
  },
  {
   "cell_type": "code",
   "execution_count": 8,
   "metadata": {},
   "outputs": [],
   "source": [
    "weights ={'out':tf.Variable(tf.random_normal([n_hidden,n_classes]),name='Weight')}\n",
    "biases ={'out':tf.Variable(tf.random_normal([n_classes]),name='bias')}"
   ]
  },
  {
   "cell_type": "code",
   "execution_count": 9,
   "metadata": {},
   "outputs": [],
   "source": [
    "def RNN(x,weights,bias):\n",
    "    x=tf.unstack(x,n_steps,1)\n",
    "    lstm_cell=rnn.BasicLSTMCell(n_hidden,forget_bias=0.8)\n",
    "    outputs, states =rnn.static_rnn(lstm_cell,x,dtype=tf.float32)\n",
    "    return tf.matmul(outputs[-1],weights['out']+biases['out'])"
   ]
  },
  {
   "cell_type": "code",
   "execution_count": 10,
   "metadata": {},
   "outputs": [],
   "source": [
    "pred = RNN(x,weights,biases)"
   ]
  },
  {
   "cell_type": "code",
   "execution_count": 11,
   "metadata": {},
   "outputs": [],
   "source": [
    "cost = tf.reduce_mean(tf.nn.softmax_cross_entropy_with_logits_v2(logits=pred,labels=y),name=None)\n",
    "optimizer = tf.train.AdamOptimizer(learning_rate=learning_rate).minimize(cost)"
   ]
  },
  {
   "cell_type": "code",
   "execution_count": 12,
   "metadata": {},
   "outputs": [],
   "source": [
    "correct_pred = tf.equal(tf.argmax(pred,1),tf.argmax(y,1))\n",
    "accuracy = tf.reduce_mean(tf.cast(correct_pred,tf.float32))"
   ]
  },
  {
   "cell_type": "code",
   "execution_count": 13,
   "metadata": {},
   "outputs": [],
   "source": [
    "init = tf.global_variables_initializer()"
   ]
  },
  {
   "cell_type": "code",
   "execution_count": 16,
   "metadata": {},
   "outputs": [
    {
     "name": "stdout",
     "output_type": "stream",
     "text": [
      "Iter:2560, Minibatch Loss=1.863115, Trainging Accurary=0.37109\n",
      "Iter:5120, Minibatch Loss=1.403156, Trainging Accurary=0.51562\n",
      "Iter:7680, Minibatch Loss=1.129744, Trainging Accurary=0.67578\n",
      "Iter:10240, Minibatch Loss=1.054204, Trainging Accurary=0.66406\n",
      "Iter:12800, Minibatch Loss=0.737983, Trainging Accurary=0.77734\n",
      "Iter:15360, Minibatch Loss=0.684760, Trainging Accurary=0.78516\n",
      "Iter:17920, Minibatch Loss=0.549214, Trainging Accurary=0.78516\n",
      "Iter:20480, Minibatch Loss=0.472337, Trainging Accurary=0.85156\n",
      "Iter:23040, Minibatch Loss=0.387113, Trainging Accurary=0.85938\n",
      "Iter:25600, Minibatch Loss=0.412277, Trainging Accurary=0.85938\n",
      "Iter:28160, Minibatch Loss=0.320474, Trainging Accurary=0.89062\n",
      "Iter:30720, Minibatch Loss=0.330570, Trainging Accurary=0.89453\n",
      "Iter:33280, Minibatch Loss=0.333233, Trainging Accurary=0.89844\n",
      "Iter:35840, Minibatch Loss=0.238042, Trainging Accurary=0.92969\n",
      "Iter:38400, Minibatch Loss=0.244601, Trainging Accurary=0.92188\n",
      "Iter:40960, Minibatch Loss=0.230201, Trainging Accurary=0.92188\n",
      "Iter:43520, Minibatch Loss=0.201724, Trainging Accurary=0.92969\n",
      "Iter:46080, Minibatch Loss=0.174625, Trainging Accurary=0.94922\n",
      "Iter:48640, Minibatch Loss=0.137368, Trainging Accurary=0.95703\n",
      "Iter:51200, Minibatch Loss=0.257385, Trainging Accurary=0.94141\n",
      "Iter:53760, Minibatch Loss=0.175679, Trainging Accurary=0.95312\n",
      "Iter:56320, Minibatch Loss=0.197758, Trainging Accurary=0.95312\n",
      "Iter:58880, Minibatch Loss=0.211393, Trainging Accurary=0.94141\n",
      "Iter:61440, Minibatch Loss=0.100999, Trainging Accurary=0.96875\n",
      "Iter:64000, Minibatch Loss=0.106533, Trainging Accurary=0.96875\n",
      "Iter:66560, Minibatch Loss=0.133922, Trainging Accurary=0.95312\n",
      "Iter:69120, Minibatch Loss=0.170630, Trainging Accurary=0.94141\n",
      "Iter:71680, Minibatch Loss=0.145163, Trainging Accurary=0.94531\n",
      "Iter:74240, Minibatch Loss=0.114103, Trainging Accurary=0.96875\n",
      "Iter:76800, Minibatch Loss=0.075470, Trainging Accurary=0.97656\n",
      "Iter:79360, Minibatch Loss=0.139974, Trainging Accurary=0.96484\n",
      "Iter:81920, Minibatch Loss=0.137442, Trainging Accurary=0.97266\n",
      "Iter:84480, Minibatch Loss=0.094082, Trainging Accurary=0.97266\n",
      "Iter:87040, Minibatch Loss=0.127437, Trainging Accurary=0.96094\n",
      "Iter:89600, Minibatch Loss=0.083807, Trainging Accurary=0.97266\n",
      "Iter:92160, Minibatch Loss=0.152819, Trainging Accurary=0.93359\n",
      "Iter:94720, Minibatch Loss=0.198470, Trainging Accurary=0.93750\n",
      "Iter:97280, Minibatch Loss=0.085300, Trainging Accurary=0.96094\n",
      "Iter:99840, Minibatch Loss=0.136514, Trainging Accurary=0.95703\n",
      "Optimization Finished!\n",
      "Test Accuracy: 0.9921875\n"
     ]
    }
   ],
   "source": [
    "with tf.Session() as sess:\n",
    "    sess.run(init)\n",
    "    writer = tf.summary.FileWriter('./lstm_mnist',sess.graph)\n",
    "    step = 1\n",
    "    while step*batch_size < training_iters:\n",
    "        batch_x,batch_y =mnist.train.next_batch(batch_size)\n",
    "        batch_x = batch_x.reshape(batch_size,n_steps,n_input)\n",
    "        sess.run(optimizer,feed_dict={x:batch_x,y:batch_y})\n",
    "        if step % display_step ==0:\n",
    "            acc = sess.run(accuracy,feed_dict={x:batch_x,y:batch_y})\n",
    "            loss = sess.run(cost,feed_dict={x:batch_x,y:batch_y})\n",
    "            print('Iter:'+str(step*batch_size)+', Minibatch Loss='+\\\n",
    "             '{:.6f}'.format(loss)+', Trainging Accurary='+\\\n",
    "             '{:.5f}'.format(acc))\n",
    "        step+=1\n",
    "    print('Optimization Finished!')\n",
    "    writer.close()\n",
    "    test_len =128\n",
    "    test_data = mnist.test.images[:test_len].reshape((-1,n_steps,n_input))\n",
    "    test_label = mnist.test.labels[:test_len]\n",
    "    print('Test Accuracy:', \\\n",
    "          sess.run(accuracy,feed_dict={x:test_data,y:test_label}))"
   ]
  },
  {
   "cell_type": "code",
   "execution_count": null,
   "metadata": {},
   "outputs": [],
   "source": []
  }
 ],
 "metadata": {
  "kernelspec": {
   "display_name": "Python 3",
   "language": "python",
   "name": "python3"
  },
  "language_info": {
   "codemirror_mode": {
    "name": "ipython",
    "version": 3
   },
   "file_extension": ".py",
   "mimetype": "text/x-python",
   "name": "python",
   "nbconvert_exporter": "python",
   "pygments_lexer": "ipython3",
   "version": "3.5.2"
  }
 },
 "nbformat": 4,
 "nbformat_minor": 2
}
